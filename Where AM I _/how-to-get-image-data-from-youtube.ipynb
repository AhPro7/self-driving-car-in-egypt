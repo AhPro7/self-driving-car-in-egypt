{
 "cells": [
  {
   "cell_type": "code",
   "execution_count": 1,
   "id": "5d6e2913",
   "metadata": {
    "_cell_guid": "b1076dfc-b9ad-4769-8c92-a6c4dae69d19",
    "_uuid": "8f2839f25d086af736a60e9eeb907d3b93b6e0e5",
    "execution": {
     "iopub.execute_input": "2022-03-08T08:40:28.992408Z",
     "iopub.status.busy": "2022-03-08T08:40:28.991386Z",
     "iopub.status.idle": "2022-03-08T08:40:29.341281Z",
     "shell.execute_reply": "2022-03-08T08:40:29.341791Z",
     "shell.execute_reply.started": "2022-03-08T08:29:46.994875Z"
    },
    "papermill": {
     "duration": 0.37884,
     "end_time": "2022-03-08T08:40:29.342089",
     "exception": false,
     "start_time": "2022-03-08T08:40:28.963249",
     "status": "completed"
    },
    "tags": []
   },
   "outputs": [],
   "source": [
    "import numpy as np # linear algebra\n",
    "import pandas as pd # data processing, CSV file I/O (e.g. pd.read_csv)\n",
    "import cv2\n",
    "\n",
    "import os\n",
    "for dirname, _, filenames in os.walk('/kaggle/input'):\n",
    "    for filename in filenames:\n",
    "        print(os.path.join(dirname, filename))"
   ]
  },
  {
   "cell_type": "markdown",
   "id": "3bad62ea",
   "metadata": {
    "papermill": {
     "duration": 0.023371,
     "end_time": "2022-03-08T08:40:29.389684",
     "exception": false,
     "start_time": "2022-03-08T08:40:29.366313",
     "status": "completed"
    },
    "tags": []
   },
   "source": [
    "# Target \n",
    "## build a data science project from scratch \n",
    "1. Get data ==>(image dataset from youtube videos) \n",
    "2. prepare the images \n",
    "3. build a CNN to classify the the images"
   ]
  },
  {
   "cell_type": "markdown",
   "id": "2d2c3472",
   "metadata": {
    "papermill": {
     "duration": 0.02308,
     "end_time": "2022-03-08T08:40:29.436284",
     "exception": false,
     "start_time": "2022-03-08T08:40:29.413204",
     "status": "completed"
    },
    "tags": []
   },
   "source": [
    "# Get data \n",
    "\n",
    "#### The data is three videos, each video of which was filmed by a motorist in three capitals of different worlds, and they are as follows\n",
    "1. [Cairo](https://youtu.be/86pZTI5gJQM) \n",
    "2. [Moscow](https://youtu.be/YORkrd05BtA)\n",
    "3. [Paris](https://youtu.be/FBjjYw-xcdg?t=2)"
   ]
  },
  {
   "cell_type": "code",
   "execution_count": 2,
   "id": "1d552564",
   "metadata": {
    "execution": {
     "iopub.execute_input": "2022-03-08T08:40:29.486163Z",
     "iopub.status.busy": "2022-03-08T08:40:29.485600Z",
     "iopub.status.idle": "2022-03-08T08:40:39.822687Z",
     "shell.execute_reply": "2022-03-08T08:40:39.822067Z",
     "shell.execute_reply.started": "2022-03-08T08:29:47.378495Z"
    },
    "papermill": {
     "duration": 10.363179,
     "end_time": "2022-03-08T08:40:39.822818",
     "exception": false,
     "start_time": "2022-03-08T08:40:29.459639",
     "status": "completed"
    },
    "tags": []
   },
   "outputs": [
    {
     "name": "stdout",
     "output_type": "stream",
     "text": [
      "Collecting pytube\r\n",
      "  Downloading pytube-12.0.0-py3-none-any.whl (56 kB)\r\n",
      "     |████████████████████████████████| 56 kB 265 kB/s            \r\n",
      "\u001b[?25hInstalling collected packages: pytube\r\n",
      "Successfully installed pytube-12.0.0\r\n",
      "\u001b[33mWARNING: Running pip as the 'root' user can result in broken permissions and conflicting behaviour with the system package manager. It is recommended to use a virtual environment instead: https://pip.pypa.io/warnings/venv\u001b[0m\r\n"
     ]
    }
   ],
   "source": [
    "# we need it download youtube videos \n",
    "! pip install  pytube"
   ]
  },
  {
   "cell_type": "code",
   "execution_count": 3,
   "id": "b42409b0",
   "metadata": {
    "execution": {
     "iopub.execute_input": "2022-03-08T08:40:39.881991Z",
     "iopub.status.busy": "2022-03-08T08:40:39.881413Z",
     "iopub.status.idle": "2022-03-08T08:40:39.895668Z",
     "shell.execute_reply": "2022-03-08T08:40:39.895161Z",
     "shell.execute_reply.started": "2022-03-08T08:29:58.614865Z"
    },
    "papermill": {
     "duration": 0.044939,
     "end_time": "2022-03-08T08:40:39.895799",
     "exception": false,
     "start_time": "2022-03-08T08:40:39.850860",
     "status": "completed"
    },
    "tags": []
   },
   "outputs": [],
   "source": [
    "# function to download videoes\n",
    "from pytube import YouTube\n",
    "def get_youtube_video(viedo_link):\n",
    "    video = YouTube(viedo_link)\n",
    "    stream = video.streams.get_highest_resolution()\n",
    "    stream.download()\n",
    "    print(\"Done !\")"
   ]
  },
  {
   "cell_type": "code",
   "execution_count": 4,
   "id": "d94f5863",
   "metadata": {
    "execution": {
     "iopub.execute_input": "2022-03-08T08:40:39.960727Z",
     "iopub.status.busy": "2022-03-08T08:40:39.953262Z",
     "iopub.status.idle": "2022-03-08T08:42:26.319611Z",
     "shell.execute_reply": "2022-03-08T08:42:26.320160Z",
     "shell.execute_reply.started": "2022-03-08T08:29:58.635519Z"
    },
    "papermill": {
     "duration": 106.398074,
     "end_time": "2022-03-08T08:42:26.320345",
     "exception": false,
     "start_time": "2022-03-08T08:40:39.922271",
     "status": "completed"
    },
    "tags": []
   },
   "outputs": [
    {
     "name": "stdout",
     "output_type": "stream",
     "text": [
      "Done !\n",
      "Done !\n",
      "Done !\n"
     ]
    }
   ],
   "source": [
    "cairo_viedo=get_youtube_video('https://youtu.be/86pZTI5gJQM')\n",
    "moscow_viedo=get_youtube_video('https://youtu.be/YORkrd05BtA') \n",
    "paris_viedo=get_youtube_video('https://youtu.be/FBjjYw-xcdg') "
   ]
  },
  {
   "cell_type": "code",
   "execution_count": 5,
   "id": "7af7babf",
   "metadata": {
    "execution": {
     "iopub.execute_input": "2022-03-08T08:42:26.378930Z",
     "iopub.status.busy": "2022-03-08T08:42:26.378075Z",
     "iopub.status.idle": "2022-03-08T08:42:27.160763Z",
     "shell.execute_reply": "2022-03-08T08:42:27.161245Z",
     "shell.execute_reply.started": "2022-03-08T08:32:03.936356Z"
    },
    "papermill": {
     "duration": 0.814513,
     "end_time": "2022-03-08T08:42:27.161427",
     "exception": false,
     "start_time": "2022-03-08T08:42:26.346914",
     "status": "completed"
    },
    "tags": []
   },
   "outputs": [
    {
     "name": "stdout",
     "output_type": "stream",
     "text": [
      "/kaggle/working\r\n"
     ]
    }
   ],
   "source": [
    "! pwd"
   ]
  },
  {
   "cell_type": "code",
   "execution_count": 6,
   "id": "ae081e10",
   "metadata": {
    "execution": {
     "iopub.execute_input": "2022-03-08T08:42:27.217826Z",
     "iopub.status.busy": "2022-03-08T08:42:27.217269Z",
     "iopub.status.idle": "2022-03-08T08:42:28.019380Z",
     "shell.execute_reply": "2022-03-08T08:42:28.018694Z",
     "shell.execute_reply.started": "2022-03-08T08:32:04.692806Z"
    },
    "papermill": {
     "duration": 0.831383,
     "end_time": "2022-03-08T08:42:28.019514",
     "exception": false,
     "start_time": "2022-03-08T08:42:27.188131",
     "status": "completed"
    },
    "tags": []
   },
   "outputs": [
    {
     "name": "stdout",
     "output_type": "stream",
     "text": [
      "'Cairo 4K - Night Drive - Driving Downtown.mp4'\r\n",
      "'Driving in Moscow 4K - Day and Night.mp4'\r\n",
      "'Paris Drive 4K - Sunset Drive - France.mp4'\r\n",
      " __notebook__.ipynb\r\n"
     ]
    }
   ],
   "source": [
    "! ls"
   ]
  },
  {
   "cell_type": "markdown",
   "id": "79559fe7",
   "metadata": {
    "papermill": {
     "duration": 0.027658,
     "end_time": "2022-03-08T08:42:28.074033",
     "exception": false,
     "start_time": "2022-03-08T08:42:28.046375",
     "status": "completed"
    },
    "tags": []
   },
   "source": [
    "### finally we get it\n",
    "#### We need at least one frame every second to avoid similar images or at least reduce distortion, but first let's create the folders for the data. Let's see the FPS of our videos"
   ]
  },
  {
   "cell_type": "code",
   "execution_count": 7,
   "id": "32d65547",
   "metadata": {
    "execution": {
     "iopub.execute_input": "2022-03-08T08:42:28.136916Z",
     "iopub.status.busy": "2022-03-08T08:42:28.136313Z",
     "iopub.status.idle": "2022-03-08T08:42:28.275453Z",
     "shell.execute_reply": "2022-03-08T08:42:28.274912Z",
     "shell.execute_reply.started": "2022-03-08T08:32:05.454628Z"
    },
    "papermill": {
     "duration": 0.174401,
     "end_time": "2022-03-08T08:42:28.275600",
     "exception": false,
     "start_time": "2022-03-08T08:42:28.101199",
     "status": "completed"
    },
    "tags": []
   },
   "outputs": [],
   "source": [
    "# viedo paths\n",
    "cairo_viedo_path = '/kaggle/working/Cairo 4K - Night Drive - Driving Downtown.mp4'\n",
    "moscow_viedo_path = '/kaggle/working/Driving in Moscow 4K - Day and Night.mp4'\n",
    "paris_viedo_path = '/kaggle/working/Paris Drive 4K - Sunset Drive - France.mp4'\n",
    "# save viedos in files \n",
    "cairo_viedo_offline=cv2.VideoCapture(cairo_viedo_path)\n",
    "moscow_viedo_offline=cv2.VideoCapture(moscow_viedo_path) \n",
    "paris_viedo_offline=cv2.VideoCapture(paris_viedo_path)\n",
    "\n",
    "# function to get Fps\n",
    "def Get_viedo_info(video,name): #FPS , NO.Frames , Duration in sec\n",
    "    framespersecond= video.get(cv2.CAP_PROP_FPS)\n",
    "    totalNoFrames = video.get(cv2.CAP_PROP_FRAME_COUNT)\n",
    "    durationInSeconds = float(totalNoFrames) / float(framespersecond)\n",
    "    print(\"FPS in \", name ,\"is \", framespersecond,' ,total number of frames in this is ',totalNoFrames,' and durtion is ',durationInSeconds)\n",
    "    "
   ]
  },
  {
   "cell_type": "code",
   "execution_count": 8,
   "id": "9cf852fc",
   "metadata": {
    "execution": {
     "iopub.execute_input": "2022-03-08T08:42:28.333866Z",
     "iopub.status.busy": "2022-03-08T08:42:28.332945Z",
     "iopub.status.idle": "2022-03-08T08:42:28.341754Z",
     "shell.execute_reply": "2022-03-08T08:42:28.342600Z",
     "shell.execute_reply.started": "2022-03-08T08:32:05.610058Z"
    },
    "papermill": {
     "duration": 0.039989,
     "end_time": "2022-03-08T08:42:28.342857",
     "exception": false,
     "start_time": "2022-03-08T08:42:28.302868",
     "status": "completed"
    },
    "tags": []
   },
   "outputs": [
    {
     "name": "stdout",
     "output_type": "stream",
     "text": [
      "FPS in  cairo is  29.97002997002997  ,total number of frames in this is  111386.0  and durtion is  3716.5795333333335\n",
      "FPS in  moscow is  29.97002997002997  ,total number of frames in this is  88851.0  and durtion is  2964.6617\n",
      "FPS in  paris is  30.0  ,total number of frames in this is  58116.0  and durtion is  1937.2\n"
     ]
    }
   ],
   "source": [
    "cairo_fps=Get_viedo_info(cairo_viedo_offline,'cairo')\n",
    "moscow_fps=Get_viedo_info(moscow_viedo_offline,'moscow')\n",
    "paris_fps=Get_viedo_info(paris_viedo_offline,'paris')"
   ]
  },
  {
   "cell_type": "code",
   "execution_count": 9,
   "id": "1711df08",
   "metadata": {
    "execution": {
     "iopub.execute_input": "2022-03-08T08:42:28.402192Z",
     "iopub.status.busy": "2022-03-08T08:42:28.401585Z",
     "iopub.status.idle": "2022-03-08T08:42:29.194957Z",
     "shell.execute_reply": "2022-03-08T08:42:29.195575Z",
     "shell.execute_reply.started": "2022-03-08T08:32:05.625442Z"
    },
    "papermill": {
     "duration": 0.82388,
     "end_time": "2022-03-08T08:42:29.195759",
     "exception": false,
     "start_time": "2022-03-08T08:42:28.371879",
     "status": "completed"
    },
    "tags": []
   },
   "outputs": [],
   "source": [
    "# Lets make folders for images and start to start work \n",
    "\n",
    "!mkdir /kaggle/working/Data"
   ]
  },
  {
   "cell_type": "markdown",
   "id": "fe91f368",
   "metadata": {
    "papermill": {
     "duration": 1.924692,
     "end_time": "2022-03-08T08:42:31.148796",
     "exception": false,
     "start_time": "2022-03-08T08:42:29.224104",
     "status": "completed"
    },
    "tags": []
   },
   "source": [
    "### I will prepare paths to split images as train , test and validation"
   ]
  },
  {
   "attachments": {
    "f930b915-313f-4547-8238-1fcc41a9f62f.png": {
     "image/png": "[encoded data removed]"
    }
   },
   "cell_type": "markdown",
   "id": "55d27f6b",
   "metadata": {
    "papermill": {
     "duration": 0.026963,
     "end_time": "2022-03-08T08:42:31.203408",
     "exception": false,
     "start_time": "2022-03-08T08:42:31.176445",
     "status": "completed"
    },
    "tags": []
   },
   "source": [
    "![image.png](attachment:f930b915-313f-4547-8238-1fcc41a9f62f.png)"
   ]
  },
  {
   "cell_type": "code",
   "execution_count": 10,
   "id": "99e5e30c",
   "metadata": {
    "execution": {
     "iopub.execute_input": "2022-03-08T08:42:31.261171Z",
     "iopub.status.busy": "2022-03-08T08:42:31.260590Z",
     "iopub.status.idle": "2022-03-08T08:42:32.045637Z",
     "shell.execute_reply": "2022-03-08T08:42:32.045128Z",
     "shell.execute_reply.started": "2022-03-08T08:32:06.404565Z"
    },
    "papermill": {
     "duration": 0.815103,
     "end_time": "2022-03-08T08:42:32.045782",
     "exception": false,
     "start_time": "2022-03-08T08:42:31.230679",
     "status": "completed"
    },
    "tags": []
   },
   "outputs": [],
   "source": [
    "!mkdir /kaggle/working/Data/train/"
   ]
  },
  {
   "cell_type": "code",
   "execution_count": 11,
   "id": "2f9f782d",
   "metadata": {
    "execution": {
     "iopub.execute_input": "2022-03-08T08:42:32.104239Z",
     "iopub.status.busy": "2022-03-08T08:42:32.103666Z",
     "iopub.status.idle": "2022-03-08T08:42:34.473224Z",
     "shell.execute_reply": "2022-03-08T08:42:34.472653Z",
     "shell.execute_reply.started": "2022-03-08T08:32:07.156926Z"
    },
    "papermill": {
     "duration": 2.399638,
     "end_time": "2022-03-08T08:42:34.473364",
     "exception": false,
     "start_time": "2022-03-08T08:42:32.073726",
     "status": "completed"
    },
    "tags": []
   },
   "outputs": [],
   "source": [
    "!mkdir /kaggle/working/Data/train/cairo\n",
    "!mkdir /kaggle/working/Data/train/moscow\n",
    "!mkdir /kaggle/working/Data/train/paris"
   ]
  },
  {
   "cell_type": "code",
   "execution_count": 12,
   "id": "0504a4ff",
   "metadata": {
    "execution": {
     "iopub.execute_input": "2022-03-08T08:42:34.533461Z",
     "iopub.status.busy": "2022-03-08T08:42:34.531521Z",
     "iopub.status.idle": "2022-03-08T08:42:35.315062Z",
     "shell.execute_reply": "2022-03-08T08:42:35.314562Z",
     "shell.execute_reply.started": "2022-03-08T08:32:10.090724Z"
    },
    "papermill": {
     "duration": 0.814164,
     "end_time": "2022-03-08T08:42:35.315210",
     "exception": false,
     "start_time": "2022-03-08T08:42:34.501046",
     "status": "completed"
    },
    "tags": []
   },
   "outputs": [],
   "source": [
    "!mkdir /kaggle/working/Data/test/"
   ]
  },
  {
   "cell_type": "code",
   "execution_count": 13,
   "id": "ea06f9e9",
   "metadata": {
    "execution": {
     "iopub.execute_input": "2022-03-08T08:42:35.374285Z",
     "iopub.status.busy": "2022-03-08T08:42:35.373565Z",
     "iopub.status.idle": "2022-03-08T08:42:37.719312Z",
     "shell.execute_reply": "2022-03-08T08:42:37.719793Z",
     "shell.execute_reply.started": "2022-03-08T08:32:10.852085Z"
    },
    "papermill": {
     "duration": 2.377299,
     "end_time": "2022-03-08T08:42:37.719958",
     "exception": false,
     "start_time": "2022-03-08T08:42:35.342659",
     "status": "completed"
    },
    "tags": []
   },
   "outputs": [],
   "source": [
    "!mkdir /kaggle/working/Data/test/cairo\n",
    "!mkdir /kaggle/working/Data/test/moscow\n",
    "!mkdir /kaggle/working/Data/test/paris"
   ]
  },
  {
   "cell_type": "code",
   "execution_count": 14,
   "id": "e125aca3",
   "metadata": {
    "execution": {
     "iopub.execute_input": "2022-03-08T08:42:37.779241Z",
     "iopub.status.busy": "2022-03-08T08:42:37.778599Z",
     "iopub.status.idle": "2022-03-08T08:42:38.557327Z",
     "shell.execute_reply": "2022-03-08T08:42:38.556681Z",
     "shell.execute_reply.started": "2022-03-08T08:32:13.131961Z"
    },
    "papermill": {
     "duration": 0.809397,
     "end_time": "2022-03-08T08:42:38.557461",
     "exception": false,
     "start_time": "2022-03-08T08:42:37.748064",
     "status": "completed"
    },
    "tags": []
   },
   "outputs": [],
   "source": [
    "!mkdir /kaggle/working/Data/Val/"
   ]
  },
  {
   "cell_type": "code",
   "execution_count": 15,
   "id": "aee25b5a",
   "metadata": {
    "execution": {
     "iopub.execute_input": "2022-03-08T08:42:38.615698Z",
     "iopub.status.busy": "2022-03-08T08:42:38.615109Z",
     "iopub.status.idle": "2022-03-08T08:42:40.974698Z",
     "shell.execute_reply": "2022-03-08T08:42:40.974005Z",
     "shell.execute_reply.started": "2022-03-08T08:32:13.921119Z"
    },
    "papermill": {
     "duration": 2.389712,
     "end_time": "2022-03-08T08:42:40.974837",
     "exception": false,
     "start_time": "2022-03-08T08:42:38.585125",
     "status": "completed"
    },
    "tags": []
   },
   "outputs": [],
   "source": [
    "!mkdir /kaggle/working/Data/Val/cairo\n",
    "!mkdir /kaggle/working/Data/Val/moscow\n",
    "!mkdir /kaggle/working/Data/Val/paris"
   ]
  },
  {
   "cell_type": "code",
   "execution_count": 16,
   "id": "00a485b7",
   "metadata": {
    "execution": {
     "iopub.execute_input": "2022-03-08T08:42:41.034195Z",
     "iopub.status.busy": "2022-03-08T08:42:41.033598Z",
     "iopub.status.idle": "2022-03-08T08:42:41.811044Z",
     "shell.execute_reply": "2022-03-08T08:42:41.810505Z",
     "shell.execute_reply.started": "2022-03-08T08:32:16.183181Z"
    },
    "papermill": {
     "duration": 0.808999,
     "end_time": "2022-03-08T08:42:41.811193",
     "exception": false,
     "start_time": "2022-03-08T08:42:41.002194",
     "status": "completed"
    },
    "tags": []
   },
   "outputs": [
    {
     "name": "stdout",
     "output_type": "stream",
     "text": [
      "/kaggle/working\r\n"
     ]
    }
   ],
   "source": [
    "# i will back to Working path\n",
    "! pwd\n",
    "# i'm in it 😂😂"
   ]
  },
  {
   "cell_type": "code",
   "execution_count": 17,
   "id": "640461db",
   "metadata": {
    "execution": {
     "iopub.execute_input": "2022-03-08T08:42:41.872428Z",
     "iopub.status.busy": "2022-03-08T08:42:41.871769Z",
     "iopub.status.idle": "2022-03-08T08:43:08.581469Z",
     "shell.execute_reply": "2022-03-08T08:43:08.580574Z",
     "shell.execute_reply.started": "2022-03-08T08:32:16.934117Z"
    },
    "papermill": {
     "duration": 26.742053,
     "end_time": "2022-03-08T08:43:08.581607",
     "exception": false,
     "start_time": "2022-03-08T08:42:41.839554",
     "status": "completed"
    },
    "tags": []
   },
   "outputs": [
    {
     "name": "stdout",
     "output_type": "stream",
     "text": [
      "Collecting moviepy\r\n",
      "  Downloading moviepy-1.0.3.tar.gz (388 kB)\r\n",
      "     |████████████████████████████████| 388 kB 277 kB/s            \r\n",
      "\u001b[?25h  Preparing metadata (setup.py) ... \u001b[?25l-\b \bdone\r\n",
      "\u001b[?25hCollecting decorator<5.0,>=4.0.2\r\n",
      "  Downloading decorator-4.4.2-py2.py3-none-any.whl (9.2 kB)\r\n",
      "Requirement already satisfied: tqdm<5.0,>=4.11.2 in /opt/conda/lib/python3.7/site-packages (from moviepy) (4.62.3)\r\n",
      "Requirement already satisfied: requests<3.0,>=2.8.1 in /opt/conda/lib/python3.7/site-packages (from moviepy) (2.26.0)\r\n",
      "Collecting proglog<=1.0.0\r\n",
      "  Downloading proglog-0.1.9.tar.gz (10 kB)\r\n",
      "  Preparing metadata (setup.py) ... \u001b[?25l-\b \bdone\r\n",
      "\u001b[?25hRequirement already satisfied: numpy>=1.17.3 in /opt/conda/lib/python3.7/site-packages (from moviepy) (1.20.3)\r\n",
      "Requirement already satisfied: imageio<3.0,>=2.5 in /opt/conda/lib/python3.7/site-packages (from moviepy) (2.9.0)\r\n",
      "Collecting imageio_ffmpeg>=0.2.0\r\n",
      "  Downloading imageio_ffmpeg-0.4.5-py3-none-manylinux2010_x86_64.whl (26.9 MB)\r\n",
      "     |████████████████████████████████| 26.9 MB 387 kB/s             \r\n",
      "\u001b[?25hRequirement already satisfied: pillow in /opt/conda/lib/python3.7/site-packages (from imageio<3.0,>=2.5->moviepy) (8.2.0)\r\n",
      "Requirement already satisfied: idna<4,>=2.5 in /opt/conda/lib/python3.7/site-packages (from requests<3.0,>=2.8.1->moviepy) (3.1)\r\n",
      "Requirement already satisfied: urllib3<1.27,>=1.21.1 in /opt/conda/lib/python3.7/site-packages (from requests<3.0,>=2.8.1->moviepy) (1.26.7)\r\n",
      "Requirement already satisfied: charset-normalizer~=2.0.0 in /opt/conda/lib/python3.7/site-packages (from requests<3.0,>=2.8.1->moviepy) (2.0.9)\r\n",
      "Requirement already satisfied: certifi>=2017.4.17 in /opt/conda/lib/python3.7/site-packages (from requests<3.0,>=2.8.1->moviepy) (2021.10.8)\r\n",
      "Building wheels for collected packages: moviepy, proglog\r\n",
      "  Building wheel for moviepy (setup.py) ... \u001b[?25l-\b \b\\\b \b|\b \bdone\r\n",
      "\u001b[?25h  Created wheel for moviepy: filename=moviepy-1.0.3-py3-none-any.whl size=110744 sha256=f8f51f801aad4b568c11a28514c7b10f543c24302773a5989db2f369580fa998\r\n",
      "  Stored in directory: /root/.cache/pip/wheels/56/dc/2b/9cd600d483c04af3353d66623056fc03faed76b7518faae4df\r\n",
      "  Building wheel for proglog (setup.py) ... \u001b[?25l-\b \bdone\r\n",
      "\u001b[?25h  Created wheel for proglog: filename=proglog-0.1.9-py3-none-any.whl size=6157 sha256=22dfd23a2925e27291772b68cc8c866842c328ae35b22d2f085edb02fd1b510c\r\n",
      "  Stored in directory: /root/.cache/pip/wheels/12/36/1f/dc61e6ac10781d63cf6fa045eb09fa613a667384e12cb6e6e0\r\n",
      "Successfully built moviepy proglog\r\n",
      "Installing collected packages: proglog, imageio-ffmpeg, decorator, moviepy\r\n",
      "  Attempting uninstall: decorator\r\n",
      "    Found existing installation: decorator 5.1.0\r\n",
      "    Uninstalling decorator-5.1.0:\r\n",
      "      Successfully uninstalled decorator-5.1.0\r\n",
      "\u001b[31mERROR: pip's dependency resolver does not currently take into account all the packages that are installed. This behaviour is the source of the following dependency conflicts.\r\n",
      "explainable-ai-sdk 1.3.2 requires xai-image-widget, which is not installed.\r\n",
      "gcsfs 2021.11.1 requires fsspec==2021.11.1, but you have fsspec 2022.2.0 which is incompatible.\u001b[0m\r\n",
      "Successfully installed decorator-4.4.2 imageio-ffmpeg-0.4.5 moviepy-1.0.3 proglog-0.1.9\r\n",
      "\u001b[33mWARNING: Running pip as the 'root' user can result in broken permissions and conflicting behaviour with the system package manager. It is recommended to use a virtual environment instead: https://pip.pypa.io/warnings/venv\u001b[0m\r\n"
     ]
    }
   ],
   "source": [
    "# deal with viedoes \n",
    "! pip install moviepy"
   ]
  },
  {
   "cell_type": "code",
   "execution_count": 18,
   "id": "b3b66dbf",
   "metadata": {
    "execution": {
     "iopub.execute_input": "2022-03-08T08:43:08.700230Z",
     "iopub.status.busy": "2022-03-08T08:43:08.699308Z",
     "iopub.status.idle": "2022-03-08T08:43:08.968862Z",
     "shell.execute_reply": "2022-03-08T08:43:08.968325Z",
     "shell.execute_reply.started": "2022-03-08T08:32:45.040932Z"
    },
    "papermill": {
     "duration": 0.332772,
     "end_time": "2022-03-08T08:43:08.969051",
     "exception": false,
     "start_time": "2022-03-08T08:43:08.636279",
     "status": "completed"
    },
    "tags": []
   },
   "outputs": [],
   "source": [
    "# I need to get small parts of videos because it will save me a lot of pictures\n",
    "from moviepy.video.io.ffmpeg_tools import ffmpeg_extract_subclip\n",
    "\n",
    "def get_subvid_first_10M(video_input_path,video_output_path):\n",
    "    ffmpeg_extract_subclip(video_input_path, 0, 600,\n",
    "                           targetname=video_output_path)\n",
    "    print('Done first 10 m from => ', video_input_path,' to ',video_output_path)\n",
    "\n",
    "def get_subvid_last_10M(video_input_path,video_output_path):\n",
    "    ffmpeg_extract_subclip(video_input_path, 1300, 1900,\n",
    "                           targetname=video_output_path)\n",
    "    print('Done last 10 m from => ', video_input_path,' to ',video_output_path)\n",
    "\n",
    "def get_test_10M(video_input_path,video_output_path):\n",
    "    ffmpeg_extract_subclip(video_input_path, 700, 900,\n",
    "                           targetname=video_output_path)\n",
    "    print('Done 10 m test from => ', video_input_path,' to ',video_output_path)\n",
    "    \n",
    "def get_val_10M(video_input_path,video_output_path):\n",
    "    ffmpeg_extract_subclip(video_input_path, 600, 700,\n",
    "                           targetname=video_output_path)\n",
    "    print('Done 10 m val from => ', video_input_path,' to ',video_output_path)\n",
    "\n"
   ]
  },
  {
   "cell_type": "code",
   "execution_count": 19,
   "id": "dc9689f9",
   "metadata": {
    "execution": {
     "iopub.execute_input": "2022-03-08T08:43:09.082831Z",
     "iopub.status.busy": "2022-03-08T08:43:09.082206Z",
     "iopub.status.idle": "2022-03-08T08:43:11.825349Z",
     "shell.execute_reply": "2022-03-08T08:43:11.824797Z",
     "shell.execute_reply.started": "2022-03-08T08:32:45.469711Z"
    },
    "papermill": {
     "duration": 2.801128,
     "end_time": "2022-03-08T08:43:11.825491",
     "exception": false,
     "start_time": "2022-03-08T08:43:09.024363",
     "status": "completed"
    },
    "tags": []
   },
   "outputs": [
    {
     "name": "stdout",
     "output_type": "stream",
     "text": [
      "Moviepy - Running:\n",
      ">>> \"+ \" \".join(cmd)\n",
      "Moviepy - Command successful\n",
      "Done first 10 m from =>  /kaggle/working/Cairo 4K - Night Drive - Driving Downtown.mp4  to  /kaggle/working/cario_train_first.mp4\n",
      "Moviepy - Running:\n",
      ">>> \"+ \" \".join(cmd)\n",
      "Moviepy - Command successful\n",
      "Done last 10 m from =>  /kaggle/working/Cairo 4K - Night Drive - Driving Downtown.mp4  to  /kaggle/working/cario_train_last.mp4\n",
      "Moviepy - Running:\n",
      ">>> \"+ \" \".join(cmd)\n",
      "Moviepy - Command successful\n",
      "Done first 10 m from =>  /kaggle/working/Driving in Moscow 4K - Day and Night.mp4  to  /kaggle/working/moscow_train_first.mp4\n",
      "Moviepy - Running:\n",
      ">>> \"+ \" \".join(cmd)\n",
      "Moviepy - Command successful\n",
      "Done last 10 m from =>  /kaggle/working/Driving in Moscow 4K - Day and Night.mp4  to  /kaggle/working/moscow_train_last.mp4\n",
      "Moviepy - Running:\n",
      ">>> \"+ \" \".join(cmd)\n",
      "Moviepy - Command successful\n",
      "Done first 10 m from =>  /kaggle/working/Paris Drive 4K - Sunset Drive - France.mp4  to  /kaggle/working/paris_train_first.mp4\n",
      "Moviepy - Running:\n",
      ">>> \"+ \" \".join(cmd)\n",
      "Moviepy - Command successful\n",
      "Done last 10 m from =>  /kaggle/working/Paris Drive 4K - Sunset Drive - France.mp4  to  /kaggle/working/paris_train_last.mp4\n"
     ]
    }
   ],
   "source": [
    "# train _viedoes\n",
    "# 1_ Cario\n",
    "\n",
    "get_subvid_first_10M(cairo_viedo_path,'/kaggle/working/cario_train_first.mp4')\n",
    "get_subvid_last_10M(cairo_viedo_path,'/kaggle/working/cario_train_last.mp4')\n",
    "\n",
    "# 2_ Moscow ______________________________________________________________________________________    \n",
    "\n",
    "get_subvid_first_10M(moscow_viedo_path,'/kaggle/working/moscow_train_first.mp4')\n",
    "get_subvid_last_10M(moscow_viedo_path,'/kaggle/working/moscow_train_last.mp4')\n",
    "\n",
    "# 3_ Paris ______________________________________________________________________________________    \n",
    "\n",
    "get_subvid_first_10M(paris_viedo_path,'/kaggle/working/paris_train_first.mp4')\n",
    "get_subvid_last_10M(paris_viedo_path,'/kaggle/working/paris_train_last.mp4')"
   ]
  },
  {
   "cell_type": "code",
   "execution_count": 20,
   "id": "de6efef5",
   "metadata": {
    "execution": {
     "iopub.execute_input": "2022-03-08T08:43:11.949167Z",
     "iopub.status.busy": "2022-03-08T08:43:11.942655Z",
     "iopub.status.idle": "2022-03-08T08:43:12.485892Z",
     "shell.execute_reply": "2022-03-08T08:43:12.485364Z",
     "shell.execute_reply.started": "2022-03-08T08:32:48.300840Z"
    },
    "papermill": {
     "duration": 0.604282,
     "end_time": "2022-03-08T08:43:12.486063",
     "exception": false,
     "start_time": "2022-03-08T08:43:11.881781",
     "status": "completed"
    },
    "tags": []
   },
   "outputs": [
    {
     "name": "stdout",
     "output_type": "stream",
     "text": [
      "Moviepy - Running:\n",
      ">>> \"+ \" \".join(cmd)\n",
      "Moviepy - Command successful\n",
      "Done 10 m test from =>  /kaggle/working/Cairo 4K - Night Drive - Driving Downtown.mp4  to  /kaggle/working/cario_test_first.mp4\n",
      "Moviepy - Running:\n",
      ">>> \"+ \" \".join(cmd)\n",
      "Moviepy - Command successful\n",
      "Done 10 m test from =>  /kaggle/working/Driving in Moscow 4K - Day and Night.mp4  to  /kaggle/working/moscow_test_first.mp4\n",
      "Moviepy - Running:\n",
      ">>> \"+ \" \".join(cmd)\n",
      "Moviepy - Command successful\n",
      "Done 10 m test from =>  /kaggle/working/Paris Drive 4K - Sunset Drive - France.mp4  to  /kaggle/working/paris_test_first.mp4\n"
     ]
    }
   ],
   "source": [
    "# test _viedoes\n",
    "# 1_ Cario\n",
    "\n",
    "get_test_10M(cairo_viedo_path,'/kaggle/working/cario_test_first.mp4')\n",
    "\n",
    "# 2_ Moscow ______________________________________________________________________________________    \n",
    "\n",
    "get_test_10M(moscow_viedo_path,'/kaggle/working/moscow_test_first.mp4')\n",
    "\n",
    "# 3_ Paris ______________________________________________________________________________________    \n",
    "\n",
    "get_test_10M(paris_viedo_path,'/kaggle/working/paris_test_first.mp4')\n"
   ]
  },
  {
   "cell_type": "code",
   "execution_count": 21,
   "id": "5f8e679c",
   "metadata": {
    "execution": {
     "iopub.execute_input": "2022-03-08T08:43:12.612522Z",
     "iopub.status.busy": "2022-03-08T08:43:12.607960Z",
     "iopub.status.idle": "2022-03-08T08:43:12.954093Z",
     "shell.execute_reply": "2022-03-08T08:43:12.953568Z",
     "shell.execute_reply.started": "2022-03-08T08:32:48.973547Z"
    },
    "papermill": {
     "duration": 0.409123,
     "end_time": "2022-03-08T08:43:12.954239",
     "exception": false,
     "start_time": "2022-03-08T08:43:12.545116",
     "status": "completed"
    },
    "tags": []
   },
   "outputs": [
    {
     "name": "stdout",
     "output_type": "stream",
     "text": [
      "Moviepy - Running:\n",
      ">>> \"+ \" \".join(cmd)\n",
      "Moviepy - Command successful\n",
      "Done 10 m val from =>  /kaggle/working/Cairo 4K - Night Drive - Driving Downtown.mp4  to  /kaggle/working/cario_val_first.mp4\n",
      "Moviepy - Running:\n",
      ">>> \"+ \" \".join(cmd)\n",
      "Moviepy - Command successful\n",
      "Done 10 m val from =>  /kaggle/working/Driving in Moscow 4K - Day and Night.mp4  to  /kaggle/working/moscow_val_first.mp4\n",
      "Moviepy - Running:\n",
      ">>> \"+ \" \".join(cmd)\n",
      "Moviepy - Command successful\n",
      "Done 10 m val from =>  /kaggle/working/Paris Drive 4K - Sunset Drive - France.mp4  to  /kaggle/working/paris_val_first.mp4\n"
     ]
    }
   ],
   "source": [
    "# val _viedoes\n",
    "# 1_ Cario\n",
    "\n",
    "get_val_10M(cairo_viedo_path,'/kaggle/working/cario_val_first.mp4')\n",
    "\n",
    "# 2_ Moscow ______________________________________________________________________________________    \n",
    "\n",
    "get_val_10M(moscow_viedo_path,'/kaggle/working/moscow_val_first.mp4')\n",
    "\n",
    "# 3_ Paris ______________________________________________________________________________________    \n",
    "\n",
    "get_val_10M(paris_viedo_path,'/kaggle/working/paris_val_first.mp4')\n"
   ]
  },
  {
   "cell_type": "code",
   "execution_count": 22,
   "id": "0870ec9d",
   "metadata": {
    "execution": {
     "iopub.execute_input": "2022-03-08T08:43:13.082500Z",
     "iopub.status.busy": "2022-03-08T08:43:13.081884Z",
     "iopub.status.idle": "2022-03-08T08:43:13.084461Z",
     "shell.execute_reply": "2022-03-08T08:43:13.083617Z",
     "shell.execute_reply.started": "2022-03-08T08:32:49.350209Z"
    },
    "papermill": {
     "duration": 0.069792,
     "end_time": "2022-03-08T08:43:13.084610",
     "exception": false,
     "start_time": "2022-03-08T08:43:13.014818",
     "status": "completed"
    },
    "tags": []
   },
   "outputs": [],
   "source": [
    "def get_image_per_seconde(sub_viedo_path,type_image,folder_name):\n",
    "    viedo=cv2.VideoCapture(sub_viedo_path)\n",
    "    success,image = viedo.read()\n",
    "    count = 0\n",
    "    while success:\n",
    "        success,image = viedo.read()\n",
    "#         print('Read a new frame: ', success)\n",
    "        if count%30 == 0 :\n",
    "            cv2.imwrite('/kaggle/working/Data/'+type_image+'/'+folder_name+'/'+folder_name+\"_frame%d.jpg\" % count, image) # save frame as JPEG file      \n",
    "        count+=1   "
   ]
  },
  {
   "cell_type": "code",
   "execution_count": 23,
   "id": "8c2d11c2",
   "metadata": {
    "execution": {
     "iopub.execute_input": "2022-03-08T08:43:13.206349Z",
     "iopub.status.busy": "2022-03-08T08:43:13.205736Z",
     "iopub.status.idle": "2022-03-08T08:43:13.207418Z",
     "shell.execute_reply": "2022-03-08T08:43:13.207921Z",
     "shell.execute_reply.started": "2022-03-08T08:32:49.359955Z"
    },
    "papermill": {
     "duration": 0.064567,
     "end_time": "2022-03-08T08:43:13.208087",
     "exception": false,
     "start_time": "2022-03-08T08:43:13.143520",
     "status": "completed"
    },
    "tags": []
   },
   "outputs": [],
   "source": [
    "# get_image_per_seconde('/kaggle/working/cario_train_first.mp4', 'Val' , 'cairo')\n"
   ]
  },
  {
   "cell_type": "code",
   "execution_count": 24,
   "id": "759ff731",
   "metadata": {
    "execution": {
     "iopub.execute_input": "2022-03-08T08:43:13.332883Z",
     "iopub.status.busy": "2022-03-08T08:43:13.330397Z",
     "iopub.status.idle": "2022-03-08T08:48:24.559871Z",
     "shell.execute_reply": "2022-03-08T08:48:24.560736Z",
     "shell.execute_reply.started": "2022-03-08T08:32:49.374299Z"
    },
    "papermill": {
     "duration": 311.293497,
     "end_time": "2022-03-08T08:48:24.561262",
     "exception": false,
     "start_time": "2022-03-08T08:43:13.267765",
     "status": "completed"
    },
    "tags": []
   },
   "outputs": [],
   "source": [
    "# train _viedoes\n",
    "\n",
    "type_image='train'\n",
    "\n",
    "# 1_ Cario\n",
    "\n",
    "get_image_per_seconde('/kaggle/working/cario_train_first.mp4', type_image , 'cairo')\n",
    "get_image_per_seconde('/kaggle/working/cario_train_last.mp4', type_image , 'cairo')\n",
    "\n",
    "\n",
    "# 2_ Moscow ______________________________________________________________________________________    \n",
    "\n",
    "get_image_per_seconde('/kaggle/working/moscow_train_first.mp4', type_image , 'moscow')\n",
    "get_image_per_seconde('/kaggle/working/moscow_train_last.mp4', type_image , 'moscow')\n",
    "\n",
    "# 3_ Paris ______________________________________________________________________________________    \n",
    "\n",
    "get_image_per_seconde('/kaggle/working/paris_train_first.mp4', type_image , 'paris')\n",
    "get_image_per_seconde('/kaggle/working/paris_train_last.mp4', type_image , 'paris')\n"
   ]
  },
  {
   "cell_type": "code",
   "execution_count": 25,
   "id": "0ab12048",
   "metadata": {
    "execution": {
     "iopub.execute_input": "2022-03-08T08:48:24.736097Z",
     "iopub.status.busy": "2022-03-08T08:48:24.735208Z",
     "iopub.status.idle": "2022-03-08T08:49:17.722753Z",
     "shell.execute_reply": "2022-03-08T08:49:17.722231Z",
     "shell.execute_reply.started": "2022-03-08T08:38:29.595493Z"
    },
    "papermill": {
     "duration": 53.069296,
     "end_time": "2022-03-08T08:49:17.722896",
     "exception": false,
     "start_time": "2022-03-08T08:48:24.653600",
     "status": "completed"
    },
    "tags": []
   },
   "outputs": [],
   "source": [
    "# test_viedoes\n",
    "\n",
    "type_image='test'\n",
    "\n",
    "# 1_ Cario\n",
    "\n",
    "get_image_per_seconde('/kaggle/working/cario_test_first.mp4', type_image , 'cairo')\n",
    "\n",
    "\n",
    "# 2_ Moscow ______________________________________________________________________________________    \n",
    "\n",
    "get_image_per_seconde('/kaggle/working/moscow_test_first.mp4', type_image , 'moscow')\n",
    "\n",
    "# 3_ Paris ______________________________________________________________________________________    \n",
    "\n",
    "get_image_per_seconde('/kaggle/working/paris_test_first.mp4', type_image , 'paris')\n"
   ]
  },
  {
   "cell_type": "code",
   "execution_count": 26,
   "id": "5369e61b",
   "metadata": {
    "execution": {
     "iopub.execute_input": "2022-03-08T08:49:17.848383Z",
     "iopub.status.busy": "2022-03-08T08:49:17.847664Z",
     "iopub.status.idle": "2022-03-08T08:49:44.625948Z",
     "shell.execute_reply": "2022-03-08T08:49:44.626509Z",
     "shell.execute_reply.started": "2022-03-08T08:39:26.697029Z"
    },
    "papermill": {
     "duration": 26.84162,
     "end_time": "2022-03-08T08:49:44.626698",
     "exception": false,
     "start_time": "2022-03-08T08:49:17.785078",
     "status": "completed"
    },
    "tags": []
   },
   "outputs": [],
   "source": [
    "# val _viedoes\n",
    "\n",
    "type_image='Val'\n",
    "\n",
    "# 1_ Cario\n",
    "\n",
    "get_image_per_seconde('/kaggle/working/cario_val_first.mp4', type_image , 'cairo')\n",
    "\n",
    "\n",
    "# 2_ Moscow ______________________________________________________________________________________    \n",
    "\n",
    "get_image_per_seconde('/kaggle/working/moscow_val_first.mp4', type_image , 'moscow')\n",
    "\n",
    "# 3_ Paris ______________________________________________________________________________________    \n",
    "\n",
    "get_image_per_seconde('/kaggle/working/paris_val_first.mp4', type_image , 'paris')\n"
   ]
  },
  {
   "cell_type": "code",
   "execution_count": null,
   "id": "632b6c37",
   "metadata": {
    "papermill": {
     "duration": 0.058822,
     "end_time": "2022-03-08T08:49:44.751395",
     "exception": false,
     "start_time": "2022-03-08T08:49:44.692573",
     "status": "completed"
    },
    "tags": []
   },
   "outputs": [],
   "source": []
  }
 ],
 "metadata": {
  "kernelspec": {
   "display_name": "Python 3",
   "language": "python",
   "name": "python3"
  },
  "language_info": {
   "codemirror_mode": {
    "name": "ipython",
    "version": 3
   },
   "file_extension": ".py",
   "mimetype": "text/x-python",
   "name": "python",
   "nbconvert_exporter": "python",
   "pygments_lexer": "ipython3",
   "version": "3.7.12"
  },
  "papermill": {
   "default_parameters": {},
   "duration": 564.820456,
   "end_time": "2022-03-08T08:49:45.623843",
   "environment_variables": {},
   "exception": null,
   "input_path": "__notebook__.ipynb",
   "output_path": "__notebook__.ipynb",
   "parameters": {},
   "start_time": "2022-03-08T08:40:20.803387",
   "version": "2.3.3"
  }
 },
 "nbformat": 4,
 "nbformat_minor": 5
}
